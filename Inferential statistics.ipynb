{
 "cells": [
  {
   "cell_type": "markdown",
   "id": "35bb2a86",
   "metadata": {},
   "source": [
    "## Question\n",
    "\n",
    "**1.-**\n",
    "It is assumed that the mean systolic blood pressure is μ = 120 mm Hg.\n",
    "In the Honolulu Heart Study, a sample of n = 100 people had an average systolic blood pressure of 130.1 mm Hg with a standard deviation of 21.21 mm Hg. Is the group significantly different (with respect to systolic blood pressure!) from the regular population?\n",
    "\n",
    "\n",
    "**1.1-**\n",
    "Set up the hypothesis test.\n",
    "\n",
    "\n",
    "**1.2-**\n",
    "Write down all the steps followed for setting up the test.\n",
    "\n",
    "\n",
    "**1.3-**\n",
    "Calculate the test statistic by hand and also code it in Python. It should be 4.76190. We will take a look at how to make decisions based on this calculated value."
   ]
  },
  {
   "cell_type": "markdown",
   "id": "c69ceaf5",
   "metadata": {},
   "source": [
    "## Answer\n",
    "\n",
    "**1.-**\n",
    "\n",
    "**1.1-**\n",
    "\n",
    "H0: μ = 120 mm Hg (null hypothesis)\n",
    "\n",
    "Ha: μ ≠ 120 mm Hg (alternative hypothesis)\n",
    "\n",
    "α = 0.05 (significance level)\n",
    "\n",
    "**1.2-**\n",
    "\n",
    "- **Set the question:** \n",
    "\n",
    " - Is the group significantly different from the regular population? (with respect to systolic blood pressure)\n",
    "\n",
    "\n",
    "- **State the null hypothesis (H0):** \n",
    "\n",
    " - H0: μ = 120 mm Hg\n",
    "\n",
    "\n",
    "- **State the alternative hypothesis (Ha):**\n",
    "\n",
    " - Ha: μ ≠ 120 mm Hg\n",
    "\n",
    "\n",
    "- **Choose a significance level (α):**\n",
    "\n",
    " - α = 0.05\n",
    "\n",
    "\n",
    "- **Determine the appropriate test statistic:**\n",
    "\n",
    " - we will use a t-test.\n",
    "\n",
    "\n",
    "- **Determine the sample size:**\n",
    "\n",
    " - 100.\n",
    "\n",
    "\n",
    "- **Calculate the test statistic (t):**\n",
    "\n",
    " - t = (x̄ - μ) / (s / √n)\n",
    "\n",
    "x̄ = 130.1 (avg of the group)\n",
    "\n",
    "μ = 120 (assumed mean)\n",
    "\n",
    "s = 21.21 (SD)\n",
    "\n",
    "n = 100 (samples)\n",
    "\n",
    "\n",
    "\n",
    "## t = (x̄ - μ) / (s / √n)\n",
    "## t = (130.1 - 120) / (21.21 / √100)\n",
    "## t = 4.76190"
   ]
  },
  {
   "cell_type": "markdown",
   "id": "6de79c44",
   "metadata": {},
   "source": [
    "**1.3-**"
   ]
  },
  {
   "cell_type": "code",
   "execution_count": 1,
   "id": "67657cc7",
   "metadata": {},
   "outputs": [
    {
     "name": "stdout",
     "output_type": "stream",
     "text": [
      "4.761904761904759\n"
     ]
    }
   ],
   "source": [
    "import numpy as np\n",
    "\n",
    "x_bar = 130.1\n",
    "mu = 120\n",
    "s = 21.21\n",
    "n = 100\n",
    "\n",
    "t = (x_bar - mu) / (s / np.sqrt(n))\n",
    "print(t)"
   ]
  }
 ],
 "metadata": {
  "kernelspec": {
   "display_name": "Python 3 (ipykernel)",
   "language": "python",
   "name": "python3"
  },
  "language_info": {
   "codemirror_mode": {
    "name": "ipython",
    "version": 3
   },
   "file_extension": ".py",
   "mimetype": "text/x-python",
   "name": "python",
   "nbconvert_exporter": "python",
   "pygments_lexer": "ipython3",
   "version": "3.9.15"
  }
 },
 "nbformat": 4,
 "nbformat_minor": 5
}
